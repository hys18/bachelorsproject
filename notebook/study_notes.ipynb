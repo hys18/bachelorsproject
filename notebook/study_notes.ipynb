{
 "cells": [
  {
   "cell_type": "markdown",
   "id": "d5d6b32b",
   "metadata": {},
   "source": [
    "# Check memory used during inference"
   ]
  },
  {
   "cell_type": "code",
   "execution_count": null,
   "id": "d3d0fd83",
   "metadata": {},
   "outputs": [],
   "source": [
    "model.eval()\n",
    "\n",
    "with torch.no_grad():\n",
    "    occupancy_pred = []\n",
    "    for batch in tqdm.tqdm(test_loader, ncols=100):\n",
    "        coordinates = batch[0].cuda()  \n",
    "        predictions = model(coordinates)\n",
    "        occ_pred = predictions.detach().clone().cpu().numpy().flatten()\n",
    "        occupancy_pred.append(occ_pred)\n",
    "occupancy_pred = np.concat(occupancy_pred, axis=0)\n",
    "occupancy_pred = occupancy_pred.reshape(resolution, resolution, resolution)\n",
    "\n",
    "memory_before = memory_usage()[0]\n",
    "# 8. apply marching cubes by reshaping it and extract mesh from the predictions\n",
    "voxel_size = (1/resolution,)*3\n",
    "vertices, faces, normals, values = marching_cubes(occupancy_pred, level=0.5, spacing=voxel_size)\n",
    "memory_after = memory_usage()[0]\n",
    "print(f'{memory_after - memory_before:.2f}MB')\n",
    "# save and visualize mesh\n",
    "mesh = trimesh.Trimesh(vertices, faces) "
   ]
  },
  {
   "cell_type": "markdown",
   "id": "5d01f4f0",
   "metadata": {},
   "source": [
    "# Post-processing: work after extracting mesh"
   ]
  },
  {
   "cell_type": "code",
   "execution_count": null,
   "id": "b79c7b3b",
   "metadata": {},
   "outputs": [],
   "source": [
    "# color meshes\n",
    "mesh.visual.vertex_colors = trimesh.visual.random_color()\n",
    "# normalize mesh\n",
    "mesh.fix_normals()\n",
    "# centralize mesh: in our case to (-0.5,-0.5,-0.5) \n",
    "mesh.vertices += [-0.5,-0.5,-0.5]\n",
    "\n",
    "# mesh.vertices = mesh.vertices - mesh.center_mass --> FYI\n",
    "\n",
    "# invert surface toward outside\n",
    "mesh.invert()\n",
    "\n",
    "# mirroring & rotating --> FYI\n",
    "vertices[:, 0] = -vertices[:, 0] # mirror on the x-axis\n",
    "rotation_matrix = np.array([[0, 0, 1], [0, 1, 0], [-1, 0, 0]])\n",
    "vertices = vertices @ rotation_matrix.T\n",
    "normals = normals @ rotation_matrix.T # rotate by 90° on the x-z plane"
   ]
  },
  {
   "cell_type": "markdown",
   "id": "53f97f80",
   "metadata": {},
   "source": [
    "# Trimesh object and sample points from the surface"
   ]
  },
  {
   "cell_type": "code",
   "execution_count": null,
   "id": "be3f1785",
   "metadata": {},
   "outputs": [],
   "source": [
    "# object on 3D coordinates\n",
    "fig = plt.figure(figsize=(10, 10))\n",
    "ax = fig.add_subplot(111, projection=\"3d\")\n",
    "\n",
    "mesh_plot = Poly3DCollection(vertices[faces], alpha=0.7, facecolor=\"cyan\", edgecolor=\"k\")\n",
    "ax.add_collection3d(mesh_plot)\n",
    "ax.set_xlabel(\"x-axis\")\n",
    "ax.set_ylabel(\"y-axis\")\n",
    "ax.set_zlabel(\"z-axis\")\n",
    "plt.title(\"reconstructed mesh\")\n",
    "plt.show()\n",
    "plt.savefig(\"reconstructed.png\")"
   ]
  },
  {
   "cell_type": "code",
   "execution_count": null,
   "id": "dfff88ba",
   "metadata": {},
   "outputs": [],
   "source": [
    "# point cloud sampling\n",
    "mesh = trimesh.Trimesh(vertices=vertices, faces=faces)\n",
    "num_sample = 20000\n",
    "point_cloud=mesh.sample(num_sample)\n",
    "\n",
    "output_pointcloud_path = \"sampled_point_cloud.npy\"\n",
    "np.save(output_pointcloud_path,point_cloud)\n",
    "print(f\"Point cloud saved.\")"
   ]
  },
  {
   "cell_type": "markdown",
   "id": "04ed03d6",
   "metadata": {},
   "source": [
    "# Check if vertices are inside the expected range"
   ]
  },
  {
   "cell_type": "code",
   "execution_count": null,
   "id": "4d7f14df",
   "metadata": {},
   "outputs": [],
   "source": [
    "# 8. Apply Marching Cubes algorithm by reshaping it and extract mesh from the predictions\n",
    "voxel_size = (1/resolution,)*3\n",
    "vertices, faces, normals, values = marching_cubes(occupancy_pred, level=0.5, spacing=voxel_size)\n",
    "\n",
    "# check if inside expected range [-0.5, 0.5]\n",
    "min_vals = np.min(vertices, axis=0)\n",
    "max_vals = np.max(vertices, axis=0)\n",
    "print(f\"Vertex coordinate min values: {min_vals}\")\n",
    "print(f\"Vertex coordinate max values: {max_vals}\")\n"
   ]
  }
 ],
 "metadata": {
  "language_info": {
   "name": "python"
  }
 },
 "nbformat": 4,
 "nbformat_minor": 5
}
